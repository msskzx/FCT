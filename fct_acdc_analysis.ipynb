{
 "cells": [
  {
   "cell_type": "code",
   "execution_count": 2,
   "metadata": {},
   "outputs": [],
   "source": [
    "import pandas as pd"
   ]
  },
  {
   "cell_type": "markdown",
   "metadata": {},
   "source": [
    "# Data Cleaning"
   ]
  },
  {
   "cell_type": "code",
   "execution_count": 3,
   "metadata": {},
   "outputs": [
    {
     "data": {
      "text/html": [
       "<div>\n",
       "<style scoped>\n",
       "    .dataframe tbody tr th:only-of-type {\n",
       "        vertical-align: middle;\n",
       "    }\n",
       "\n",
       "    .dataframe tbody tr th {\n",
       "        vertical-align: top;\n",
       "    }\n",
       "\n",
       "    .dataframe thead th {\n",
       "        text-align: right;\n",
       "    }\n",
       "</style>\n",
       "<table border=\"1\" class=\"dataframe\">\n",
       "  <thead>\n",
       "    <tr style=\"text-align: right;\">\n",
       "      <th></th>\n",
       "      <th>patient_id</th>\n",
       "      <th>group</th>\n",
       "      <th>bmi_category</th>\n",
       "      <th>bmi</th>\n",
       "      <th>height</th>\n",
       "      <th>weight</th>\n",
       "      <th>nb_frame</th>\n",
       "      <th>ed</th>\n",
       "      <th>es</th>\n",
       "    </tr>\n",
       "  </thead>\n",
       "  <tbody>\n",
       "    <tr>\n",
       "      <th>0</th>\n",
       "      <td>101</td>\n",
       "      <td>DCM</td>\n",
       "      <td>Overweight</td>\n",
       "      <td>27.660096</td>\n",
       "      <td>169.0</td>\n",
       "      <td>79.0</td>\n",
       "      <td>30</td>\n",
       "      <td>1</td>\n",
       "      <td>14</td>\n",
       "    </tr>\n",
       "    <tr>\n",
       "      <th>1</th>\n",
       "      <td>102</td>\n",
       "      <td>NOR</td>\n",
       "      <td>Obesity</td>\n",
       "      <td>30.818540</td>\n",
       "      <td>156.0</td>\n",
       "      <td>75.0</td>\n",
       "      <td>30</td>\n",
       "      <td>1</td>\n",
       "      <td>13</td>\n",
       "    </tr>\n",
       "    <tr>\n",
       "      <th>2</th>\n",
       "      <td>103</td>\n",
       "      <td>MINF</td>\n",
       "      <td>Obesity</td>\n",
       "      <td>34.938776</td>\n",
       "      <td>175.0</td>\n",
       "      <td>107.0</td>\n",
       "      <td>30</td>\n",
       "      <td>1</td>\n",
       "      <td>11</td>\n",
       "    </tr>\n",
       "    <tr>\n",
       "      <th>3</th>\n",
       "      <td>104</td>\n",
       "      <td>HCM</td>\n",
       "      <td>Healthy</td>\n",
       "      <td>22.839506</td>\n",
       "      <td>180.0</td>\n",
       "      <td>74.0</td>\n",
       "      <td>30</td>\n",
       "      <td>1</td>\n",
       "      <td>11</td>\n",
       "    </tr>\n",
       "    <tr>\n",
       "      <th>4</th>\n",
       "      <td>105</td>\n",
       "      <td>HCM</td>\n",
       "      <td>Overweight</td>\n",
       "      <td>28.066424</td>\n",
       "      <td>173.0</td>\n",
       "      <td>84.0</td>\n",
       "      <td>30</td>\n",
       "      <td>1</td>\n",
       "      <td>10</td>\n",
       "    </tr>\n",
       "  </tbody>\n",
       "</table>\n",
       "</div>"
      ],
      "text/plain": [
       "   patient_id group bmi_category        bmi  height  weight  nb_frame  ed  es\n",
       "0         101   DCM   Overweight  27.660096   169.0    79.0        30   1  14\n",
       "1         102   NOR      Obesity  30.818540   156.0    75.0        30   1  13\n",
       "2         103  MINF      Obesity  34.938776   175.0   107.0        30   1  11\n",
       "3         104   HCM      Healthy  22.839506   180.0    74.0        30   1  11\n",
       "4         105   HCM   Overweight  28.066424   173.0    84.0        30   1  10"
      ]
     },
     "execution_count": 3,
     "metadata": {},
     "output_type": "execute_result"
    }
   ],
   "source": [
    "# read scores and info tables as dataframe\n",
    "scores = pd.read_csv('./results/fct_scores.csv')\n",
    "patients = pd.read_csv('./results/test_patients_info.csv')\n",
    "patients.head()"
   ]
  },
  {
   "cell_type": "code",
   "execution_count": 4,
   "metadata": {},
   "outputs": [
    {
     "data": {
      "text/html": [
       "<div>\n",
       "<style scoped>\n",
       "    .dataframe tbody tr th:only-of-type {\n",
       "        vertical-align: middle;\n",
       "    }\n",
       "\n",
       "    .dataframe tbody tr th {\n",
       "        vertical-align: top;\n",
       "    }\n",
       "\n",
       "    .dataframe thead th {\n",
       "        text-align: right;\n",
       "    }\n",
       "</style>\n",
       "<table border=\"1\" class=\"dataframe\">\n",
       "  <thead>\n",
       "    <tr style=\"text-align: right;\">\n",
       "      <th></th>\n",
       "      <th>patient_id</th>\n",
       "      <th>slice_id</th>\n",
       "      <th>dice_avg</th>\n",
       "      <th>dice_lv</th>\n",
       "      <th>dice_rv</th>\n",
       "      <th>dice_myo</th>\n",
       "    </tr>\n",
       "  </thead>\n",
       "  <tbody>\n",
       "    <tr>\n",
       "      <th>0</th>\n",
       "      <td>101</td>\n",
       "      <td>2</td>\n",
       "      <td>0.715404</td>\n",
       "      <td>0.753115</td>\n",
       "      <td>0.877170</td>\n",
       "      <td>0.515927</td>\n",
       "    </tr>\n",
       "    <tr>\n",
       "      <th>1</th>\n",
       "      <td>101</td>\n",
       "      <td>3</td>\n",
       "      <td>0.752699</td>\n",
       "      <td>0.773758</td>\n",
       "      <td>0.859139</td>\n",
       "      <td>0.625201</td>\n",
       "    </tr>\n",
       "    <tr>\n",
       "      <th>2</th>\n",
       "      <td>101</td>\n",
       "      <td>4</td>\n",
       "      <td>0.769271</td>\n",
       "      <td>0.782025</td>\n",
       "      <td>0.883813</td>\n",
       "      <td>0.641975</td>\n",
       "    </tr>\n",
       "    <tr>\n",
       "      <th>3</th>\n",
       "      <td>101</td>\n",
       "      <td>5</td>\n",
       "      <td>0.769783</td>\n",
       "      <td>0.833599</td>\n",
       "      <td>0.807370</td>\n",
       "      <td>0.668380</td>\n",
       "    </tr>\n",
       "    <tr>\n",
       "      <th>4</th>\n",
       "      <td>101</td>\n",
       "      <td>6</td>\n",
       "      <td>0.797083</td>\n",
       "      <td>0.900846</td>\n",
       "      <td>0.752270</td>\n",
       "      <td>0.738134</td>\n",
       "    </tr>\n",
       "  </tbody>\n",
       "</table>\n",
       "</div>"
      ],
      "text/plain": [
       "   patient_id  slice_id  dice_avg   dice_lv   dice_rv  dice_myo\n",
       "0         101         2  0.715404  0.753115  0.877170  0.515927\n",
       "1         101         3  0.752699  0.773758  0.859139  0.625201\n",
       "2         101         4  0.769271  0.782025  0.883813  0.641975\n",
       "3         101         5  0.769783  0.833599  0.807370  0.668380\n",
       "4         101         6  0.797083  0.900846  0.752270  0.738134"
      ]
     },
     "execution_count": 4,
     "metadata": {},
     "output_type": "execute_result"
    }
   ],
   "source": [
    "scores.head()"
   ]
  },
  {
   "cell_type": "code",
   "execution_count": 13,
   "metadata": {},
   "outputs": [
    {
     "data": {
      "text/html": [
       "<div>\n",
       "<style scoped>\n",
       "    .dataframe tbody tr th:only-of-type {\n",
       "        vertical-align: middle;\n",
       "    }\n",
       "\n",
       "    .dataframe tbody tr th {\n",
       "        vertical-align: top;\n",
       "    }\n",
       "\n",
       "    .dataframe thead th {\n",
       "        text-align: right;\n",
       "    }\n",
       "</style>\n",
       "<table border=\"1\" class=\"dataframe\">\n",
       "  <thead>\n",
       "    <tr style=\"text-align: right;\">\n",
       "      <th></th>\n",
       "      <th>patient_id</th>\n",
       "      <th>slice_id</th>\n",
       "      <th>dice_avg</th>\n",
       "      <th>dice_lv</th>\n",
       "      <th>dice_rv</th>\n",
       "      <th>dice_myo</th>\n",
       "      <th>group</th>\n",
       "      <th>bmi_category</th>\n",
       "      <th>bmi</th>\n",
       "      <th>height</th>\n",
       "      <th>weight</th>\n",
       "      <th>nb_frame</th>\n",
       "      <th>ed</th>\n",
       "      <th>es</th>\n",
       "    </tr>\n",
       "  </thead>\n",
       "  <tbody>\n",
       "    <tr>\n",
       "      <th>0</th>\n",
       "      <td>101</td>\n",
       "      <td>2</td>\n",
       "      <td>0.715404</td>\n",
       "      <td>0.753115</td>\n",
       "      <td>0.877170</td>\n",
       "      <td>0.515927</td>\n",
       "      <td>DCM</td>\n",
       "      <td>Overweight</td>\n",
       "      <td>27.660096</td>\n",
       "      <td>169.0</td>\n",
       "      <td>79.0</td>\n",
       "      <td>30</td>\n",
       "      <td>1</td>\n",
       "      <td>14</td>\n",
       "    </tr>\n",
       "    <tr>\n",
       "      <th>1</th>\n",
       "      <td>101</td>\n",
       "      <td>3</td>\n",
       "      <td>0.752699</td>\n",
       "      <td>0.773758</td>\n",
       "      <td>0.859139</td>\n",
       "      <td>0.625201</td>\n",
       "      <td>DCM</td>\n",
       "      <td>Overweight</td>\n",
       "      <td>27.660096</td>\n",
       "      <td>169.0</td>\n",
       "      <td>79.0</td>\n",
       "      <td>30</td>\n",
       "      <td>1</td>\n",
       "      <td>14</td>\n",
       "    </tr>\n",
       "    <tr>\n",
       "      <th>2</th>\n",
       "      <td>101</td>\n",
       "      <td>4</td>\n",
       "      <td>0.769271</td>\n",
       "      <td>0.782025</td>\n",
       "      <td>0.883813</td>\n",
       "      <td>0.641975</td>\n",
       "      <td>DCM</td>\n",
       "      <td>Overweight</td>\n",
       "      <td>27.660096</td>\n",
       "      <td>169.0</td>\n",
       "      <td>79.0</td>\n",
       "      <td>30</td>\n",
       "      <td>1</td>\n",
       "      <td>14</td>\n",
       "    </tr>\n",
       "    <tr>\n",
       "      <th>3</th>\n",
       "      <td>101</td>\n",
       "      <td>5</td>\n",
       "      <td>0.769783</td>\n",
       "      <td>0.833599</td>\n",
       "      <td>0.807370</td>\n",
       "      <td>0.668380</td>\n",
       "      <td>DCM</td>\n",
       "      <td>Overweight</td>\n",
       "      <td>27.660096</td>\n",
       "      <td>169.0</td>\n",
       "      <td>79.0</td>\n",
       "      <td>30</td>\n",
       "      <td>1</td>\n",
       "      <td>14</td>\n",
       "    </tr>\n",
       "    <tr>\n",
       "      <th>4</th>\n",
       "      <td>101</td>\n",
       "      <td>6</td>\n",
       "      <td>0.797083</td>\n",
       "      <td>0.900846</td>\n",
       "      <td>0.752270</td>\n",
       "      <td>0.738134</td>\n",
       "      <td>DCM</td>\n",
       "      <td>Overweight</td>\n",
       "      <td>27.660096</td>\n",
       "      <td>169.0</td>\n",
       "      <td>79.0</td>\n",
       "      <td>30</td>\n",
       "      <td>1</td>\n",
       "      <td>14</td>\n",
       "    </tr>\n",
       "  </tbody>\n",
       "</table>\n",
       "</div>"
      ],
      "text/plain": [
       "   patient_id  slice_id  dice_avg   dice_lv   dice_rv  dice_myo group  \\\n",
       "0         101         2  0.715404  0.753115  0.877170  0.515927   DCM   \n",
       "1         101         3  0.752699  0.773758  0.859139  0.625201   DCM   \n",
       "2         101         4  0.769271  0.782025  0.883813  0.641975   DCM   \n",
       "3         101         5  0.769783  0.833599  0.807370  0.668380   DCM   \n",
       "4         101         6  0.797083  0.900846  0.752270  0.738134   DCM   \n",
       "\n",
       "  bmi_category        bmi  height  weight  nb_frame  ed  es  \n",
       "0   Overweight  27.660096   169.0    79.0        30   1  14  \n",
       "1   Overweight  27.660096   169.0    79.0        30   1  14  \n",
       "2   Overweight  27.660096   169.0    79.0        30   1  14  \n",
       "3   Overweight  27.660096   169.0    79.0        30   1  14  \n",
       "4   Overweight  27.660096   169.0    79.0        30   1  14  "
      ]
     },
     "execution_count": 13,
     "metadata": {},
     "output_type": "execute_result"
    }
   ],
   "source": [
    "# merge scores and info tables on patient id\n",
    "merged = pd.merge(scores, patients, on='patient_id')\n",
    "merged.head()"
   ]
  },
  {
   "cell_type": "code",
   "execution_count": 19,
   "metadata": {},
   "outputs": [
    {
     "data": {
      "text/html": [
       "<div>\n",
       "<style scoped>\n",
       "    .dataframe tbody tr th:only-of-type {\n",
       "        vertical-align: middle;\n",
       "    }\n",
       "\n",
       "    .dataframe tbody tr th {\n",
       "        vertical-align: top;\n",
       "    }\n",
       "\n",
       "    .dataframe thead th {\n",
       "        text-align: right;\n",
       "    }\n",
       "</style>\n",
       "<table border=\"1\" class=\"dataframe\">\n",
       "  <thead>\n",
       "    <tr style=\"text-align: right;\">\n",
       "      <th></th>\n",
       "      <th>bmi_category</th>\n",
       "      <th>group</th>\n",
       "      <th>dice_avg</th>\n",
       "      <th>dice_lv</th>\n",
       "      <th>dice_myo</th>\n",
       "      <th>dice_rv</th>\n",
       "    </tr>\n",
       "  </thead>\n",
       "  <tbody>\n",
       "    <tr>\n",
       "      <th>0</th>\n",
       "      <td>Overweight</td>\n",
       "      <td>DCM</td>\n",
       "      <td>0.715404</td>\n",
       "      <td>0.753115</td>\n",
       "      <td>0.515927</td>\n",
       "      <td>0.877170</td>\n",
       "    </tr>\n",
       "    <tr>\n",
       "      <th>1</th>\n",
       "      <td>Overweight</td>\n",
       "      <td>DCM</td>\n",
       "      <td>0.752699</td>\n",
       "      <td>0.773758</td>\n",
       "      <td>0.625201</td>\n",
       "      <td>0.859139</td>\n",
       "    </tr>\n",
       "    <tr>\n",
       "      <th>2</th>\n",
       "      <td>Overweight</td>\n",
       "      <td>DCM</td>\n",
       "      <td>0.769271</td>\n",
       "      <td>0.782025</td>\n",
       "      <td>0.641975</td>\n",
       "      <td>0.883813</td>\n",
       "    </tr>\n",
       "    <tr>\n",
       "      <th>3</th>\n",
       "      <td>Overweight</td>\n",
       "      <td>DCM</td>\n",
       "      <td>0.769783</td>\n",
       "      <td>0.833599</td>\n",
       "      <td>0.668380</td>\n",
       "      <td>0.807370</td>\n",
       "    </tr>\n",
       "    <tr>\n",
       "      <th>4</th>\n",
       "      <td>Overweight</td>\n",
       "      <td>DCM</td>\n",
       "      <td>0.797083</td>\n",
       "      <td>0.900846</td>\n",
       "      <td>0.738134</td>\n",
       "      <td>0.752270</td>\n",
       "    </tr>\n",
       "  </tbody>\n",
       "</table>\n",
       "</div>"
      ],
      "text/plain": [
       "  bmi_category group  dice_avg   dice_lv  dice_myo   dice_rv\n",
       "0   Overweight   DCM  0.715404  0.753115  0.515927  0.877170\n",
       "1   Overweight   DCM  0.752699  0.773758  0.625201  0.859139\n",
       "2   Overweight   DCM  0.769271  0.782025  0.641975  0.883813\n",
       "3   Overweight   DCM  0.769783  0.833599  0.668380  0.807370\n",
       "4   Overweight   DCM  0.797083  0.900846  0.738134  0.752270"
      ]
     },
     "execution_count": 19,
     "metadata": {},
     "output_type": "execute_result"
    }
   ],
   "source": [
    "# performance per bmi category\n",
    "bmi = merged[['bmi_category', 'group', 'dice_avg', 'dice_lv', 'dice_myo', 'dice_rv']]\n",
    "bmi.head()"
   ]
  },
  {
   "cell_type": "code",
   "execution_count": 20,
   "metadata": {},
   "outputs": [
    {
     "data": {
      "text/html": [
       "<div>\n",
       "<style scoped>\n",
       "    .dataframe tbody tr th:only-of-type {\n",
       "        vertical-align: middle;\n",
       "    }\n",
       "\n",
       "    .dataframe tbody tr th {\n",
       "        vertical-align: top;\n",
       "    }\n",
       "\n",
       "    .dataframe thead th {\n",
       "        text-align: right;\n",
       "    }\n",
       "</style>\n",
       "<table border=\"1\" class=\"dataframe\">\n",
       "  <thead>\n",
       "    <tr style=\"text-align: right;\">\n",
       "      <th></th>\n",
       "      <th>dice_avg</th>\n",
       "      <th>dice_lv</th>\n",
       "      <th>dice_myo</th>\n",
       "      <th>dice_rv</th>\n",
       "    </tr>\n",
       "  </thead>\n",
       "  <tbody>\n",
       "    <tr>\n",
       "      <th>count</th>\n",
       "      <td>1.000000e+03</td>\n",
       "      <td>1.000000e+03</td>\n",
       "      <td>1.000000e+03</td>\n",
       "      <td>1.000000e+03</td>\n",
       "    </tr>\n",
       "    <tr>\n",
       "      <th>mean</th>\n",
       "      <td>6.699278e-01</td>\n",
       "      <td>7.220175e-01</td>\n",
       "      <td>6.127631e-01</td>\n",
       "      <td>6.750029e-01</td>\n",
       "    </tr>\n",
       "    <tr>\n",
       "      <th>std</th>\n",
       "      <td>2.316635e-01</td>\n",
       "      <td>2.799718e-01</td>\n",
       "      <td>2.646047e-01</td>\n",
       "      <td>3.375262e-01</td>\n",
       "    </tr>\n",
       "    <tr>\n",
       "      <th>min</th>\n",
       "      <td>8.601140e-10</td>\n",
       "      <td>7.627765e-10</td>\n",
       "      <td>1.278772e-09</td>\n",
       "      <td>3.084516e-10</td>\n",
       "    </tr>\n",
       "    <tr>\n",
       "      <th>25%</th>\n",
       "      <td>5.589137e-01</td>\n",
       "      <td>6.475997e-01</td>\n",
       "      <td>4.936433e-01</td>\n",
       "      <td>5.655872e-01</td>\n",
       "    </tr>\n",
       "    <tr>\n",
       "      <th>50%</th>\n",
       "      <td>7.314361e-01</td>\n",
       "      <td>8.252185e-01</td>\n",
       "      <td>6.991565e-01</td>\n",
       "      <td>8.225059e-01</td>\n",
       "    </tr>\n",
       "    <tr>\n",
       "      <th>75%</th>\n",
       "      <td>8.400496e-01</td>\n",
       "      <td>9.143329e-01</td>\n",
       "      <td>7.991759e-01</td>\n",
       "      <td>9.119601e-01</td>\n",
       "    </tr>\n",
       "    <tr>\n",
       "      <th>max</th>\n",
       "      <td>1.000000e+00</td>\n",
       "      <td>1.000000e+00</td>\n",
       "      <td>1.000000e+00</td>\n",
       "      <td>1.000000e+00</td>\n",
       "    </tr>\n",
       "  </tbody>\n",
       "</table>\n",
       "</div>"
      ],
      "text/plain": [
       "           dice_avg       dice_lv      dice_myo       dice_rv\n",
       "count  1.000000e+03  1.000000e+03  1.000000e+03  1.000000e+03\n",
       "mean   6.699278e-01  7.220175e-01  6.127631e-01  6.750029e-01\n",
       "std    2.316635e-01  2.799718e-01  2.646047e-01  3.375262e-01\n",
       "min    8.601140e-10  7.627765e-10  1.278772e-09  3.084516e-10\n",
       "25%    5.589137e-01  6.475997e-01  4.936433e-01  5.655872e-01\n",
       "50%    7.314361e-01  8.252185e-01  6.991565e-01  8.225059e-01\n",
       "75%    8.400496e-01  9.143329e-01  7.991759e-01  9.119601e-01\n",
       "max    1.000000e+00  1.000000e+00  1.000000e+00  1.000000e+00"
      ]
     },
     "execution_count": 20,
     "metadata": {},
     "output_type": "execute_result"
    }
   ],
   "source": [
    "bmi.describe()"
   ]
  },
  {
   "cell_type": "code",
   "execution_count": 16,
   "metadata": {},
   "outputs": [
    {
     "data": {
      "text/html": [
       "<div>\n",
       "<style scoped>\n",
       "    .dataframe tbody tr th:only-of-type {\n",
       "        vertical-align: middle;\n",
       "    }\n",
       "\n",
       "    .dataframe tbody tr th {\n",
       "        vertical-align: top;\n",
       "    }\n",
       "\n",
       "    .dataframe thead th {\n",
       "        text-align: right;\n",
       "    }\n",
       "</style>\n",
       "<table border=\"1\" class=\"dataframe\">\n",
       "  <thead>\n",
       "    <tr style=\"text-align: right;\">\n",
       "      <th></th>\n",
       "      <th>dice_avg</th>\n",
       "      <th>dice_lv</th>\n",
       "      <th>dice_myo</th>\n",
       "      <th>dice_rv</th>\n",
       "    </tr>\n",
       "    <tr>\n",
       "      <th>bmi_category</th>\n",
       "      <th></th>\n",
       "      <th></th>\n",
       "      <th></th>\n",
       "      <th></th>\n",
       "    </tr>\n",
       "  </thead>\n",
       "  <tbody>\n",
       "    <tr>\n",
       "      <th>Healthy</th>\n",
       "      <td>0.663480</td>\n",
       "      <td>0.710110</td>\n",
       "      <td>0.579973</td>\n",
       "      <td>0.700356</td>\n",
       "    </tr>\n",
       "    <tr>\n",
       "      <th>Obesity</th>\n",
       "      <td>0.676973</td>\n",
       "      <td>0.737451</td>\n",
       "      <td>0.624102</td>\n",
       "      <td>0.669367</td>\n",
       "    </tr>\n",
       "    <tr>\n",
       "      <th>Overweight</th>\n",
       "      <td>0.678846</td>\n",
       "      <td>0.729526</td>\n",
       "      <td>0.651136</td>\n",
       "      <td>0.655876</td>\n",
       "    </tr>\n",
       "    <tr>\n",
       "      <th>Underweight</th>\n",
       "      <td>0.554858</td>\n",
       "      <td>0.596202</td>\n",
       "      <td>0.517139</td>\n",
       "      <td>0.551232</td>\n",
       "    </tr>\n",
       "  </tbody>\n",
       "</table>\n",
       "</div>"
      ],
      "text/plain": [
       "              dice_avg   dice_lv  dice_myo   dice_rv\n",
       "bmi_category                                        \n",
       "Healthy       0.663480  0.710110  0.579973  0.700356\n",
       "Obesity       0.676973  0.737451  0.624102  0.669367\n",
       "Overweight    0.678846  0.729526  0.651136  0.655876\n",
       "Underweight   0.554858  0.596202  0.517139  0.551232"
      ]
     },
     "execution_count": 16,
     "metadata": {},
     "output_type": "execute_result"
    }
   ],
   "source": [
    "bmi.groupby('bmi_category').mean(numeric_only=True)"
   ]
  },
  {
   "cell_type": "code",
   "execution_count": 22,
   "metadata": {},
   "outputs": [
    {
     "data": {
      "text/plain": [
       "dice_avg    0.669928\n",
       "dice_lv     0.722018\n",
       "dice_myo    0.612763\n",
       "dice_rv     0.675003\n",
       "dtype: float64"
      ]
     },
     "execution_count": 22,
     "metadata": {},
     "output_type": "execute_result"
    }
   ],
   "source": [
    "bmi.mean(numeric_only=True)"
   ]
  },
  {
   "cell_type": "markdown",
   "metadata": {},
   "source": [
    "# Analysis\n",
    "\n",
    "### BMI vs. DICE"
   ]
  },
  {
   "cell_type": "code",
   "execution_count": 27,
   "metadata": {},
   "outputs": [],
   "source": [
    "# plot dice scores per bmi category\n",
    "import matplotlib.pyplot as plt\n",
    "import seaborn as sns\n",
    "\n",
    "def plot_bmi_dice(bmi, dice_type='dice_avg'):\n",
    "    y_label = {'dice_avg': 'Average Dice Score',\n",
    "               'dice_lv': 'Left Ventricle Dice Score',\n",
    "               'dice_myo': 'Myocardium Dice Score',\n",
    "               'dice_rv': 'Right Ventricle Dice Score'}\n",
    "\n",
    "    sns.set(style=\"whitegrid\")\n",
    "    sns.set_context(\"paper\")\n",
    "\n",
    "    fig, ax = plt.subplots(figsize=(8, 6))\n",
    "    ax = sns.boxplot(x=\"bmi_category\", y=dice_type, data=bmi, palette=\"Set3\")\n",
    "    ax.set_xlabel('BMI Category', fontsize=14)\n",
    "    ax.set_ylabel(y_label, fontsize=14)\n",
    "    plt.show()\n",
    "\n",
    "sns.set(style=\"whitegrid\")\n",
    "sns.set_context(\"paper\")"
   ]
  },
  {
   "cell_type": "code",
   "execution_count": 28,
   "metadata": {},
   "outputs": [
    {
     "data": {
      "image/png": "[encoded data removed]",
      "text/plain": [
       "<Figure size 800x600 with 1 Axes>"
      ]
     },
     "metadata": {},
     "output_type": "display_data"
    }
   ],
   "source": [
    "plot_bmi_dice(bmi, 'dice_avg')"
   ]
  },
  {
   "cell_type": "code",
   "execution_count": 29,
   "metadata": {},
   "outputs": [
    {
     "data": {
      "image/png": "[encoded data removed]",
      "text/plain": [
       "<Figure size 800x600 with 1 Axes>"
      ]
     },
     "metadata": {},
     "output_type": "display_data"
    }
   ],
   "source": [
    "plot_bmi_dice(bmi, 'dice_lv')"
   ]
  },
  {
   "cell_type": "code",
   "execution_count": 30,
   "metadata": {},
   "outputs": [
    {
     "data": {
      "image/png": "[encoded data removed]",
      "text/plain": [
       "<Figure size 800x600 with 1 Axes>"
      ]
     },
     "metadata": {},
     "output_type": "display_data"
    }
   ],
   "source": [
    "plot_bmi_dice(bmi, 'dice_rv')"
   ]
  },
  {
   "cell_type": "code",
   "execution_count": 31,
   "metadata": {},
   "outputs": [
    {
     "data": {
      "image/png": "[encoded data removed]",
      "text/plain": [
       "<Figure size 800x600 with 1 Axes>"
      ]
     },
     "metadata": {},
     "output_type": "display_data"
    }
   ],
   "source": [
    "plot_bmi_dice(bmi, 'dice_myo')"
   ]
  },
  {
   "cell_type": "markdown",
   "metadata": {},
   "source": [
    "### Statistical significance"
   ]
  },
  {
   "cell_type": "code",
   "execution_count": null,
   "metadata": {},
   "outputs": [],
   "source": []
  }
 ],
 "metadata": {
  "kernelspec": {
   "display_name": "i2dl-assignments",
   "language": "python",
   "name": "python3"
  },
  "language_info": {
   "codemirror_mode": {
    "name": "ipython",
    "version": 3
   },
   "file_extension": ".py",
   "mimetype": "text/x-python",
   "name": "python",
   "nbconvert_exporter": "python",
   "pygments_lexer": "ipython3",
   "version": "3.9.16"
  }
 },
 "nbformat": 4,
 "nbformat_minor": 2
}
