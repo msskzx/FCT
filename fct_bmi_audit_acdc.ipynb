{
  "nbformat": 4,
  "nbformat_minor": 0,
  "metadata": {
    "colab": {
      "provenance": [],
      "gpuType": "T4"
    },
    "kernelspec": {
      "name": "python3",
      "display_name": "Python 3"
    },
    "language_info": {
      "name": "python"
    },
    "accelerator": "GPU"
  },
  "cells": [
    {
      "cell_type": "code",
      "execution_count": null,
      "metadata": {
        "id": "-hQUSkGOnxT6"
      },
      "outputs": [],
      "source": [
        "import os\n",
        "import sys\n",
        "import torch\n",
        "import numpy as np"
      ]
    },
    {
      "cell_type": "code",
      "source": [
        "!git clone https://github.com/msskzx/FCT"
      ],
      "metadata": {
        "id": "V1nQp4vk9EVI",
        "colab": {
          "base_uri": "https://localhost:8080/"
        },
        "outputId": "8be71611-04f9-45ba-8a09-a2b026598516"
      },
      "execution_count": null,
      "outputs": [
        {
          "output_type": "stream",
          "name": "stdout",
          "text": [
            "Cloning into 'FCT'...\n",
            "remote: Enumerating objects: 287, done.\u001b[K\n",
            "remote: Counting objects: 100% (64/64), done.\u001b[K\n",
            "remote: Compressing objects: 100% (49/49), done.\u001b[K\n",
            "remote: Total 287 (delta 39), reused 32 (delta 15), pack-reused 223\u001b[K\n",
            "Receiving objects: 100% (287/287), 53.49 KiB | 4.86 MiB/s, done.\n",
            "Resolving deltas: 100% (178/178), done.\n"
          ]
        }
      ]
    },
    {
      "cell_type": "code",
      "source": [
        "dir_path = '/content/FCT'\n",
        "os.chdir(dir_path)"
      ],
      "metadata": {
        "id": "nt9hg8wcn-y5"
      },
      "execution_count": null,
      "outputs": []
    },
    {
      "cell_type": "markdown",
      "source": [
        "# ACDC Dataset\n",
        "\n",
        "## Download Test Dataset Only"
      ],
      "metadata": {
        "id": "c4LWwZaCopD8"
      }
    },
    {
      "cell_type": "code",
      "source": [
        "!wget --output-document=data.zip https://humanheart-project.creatis.insa-lyon.fr/database/api/v1/folder/6372203a73e9f0047faa117e/download"
      ],
      "metadata": {
        "id": "4Ba212efom0r",
        "colab": {
          "base_uri": "https://localhost:8080/"
        },
        "outputId": "25a8a151-064f-44e9-970a-f93d18f56d96"
      },
      "execution_count": null,
      "outputs": [
        {
          "output_type": "stream",
          "name": "stdout",
          "text": [
            "--2023-09-13 19:35:35--  https://humanheart-project.creatis.insa-lyon.fr/database/api/v1/folder/6372203a73e9f0047faa117e/download\n",
            "Resolving humanheart-project.creatis.insa-lyon.fr (humanheart-project.creatis.insa-lyon.fr)... 195.220.108.28\n",
            "Connecting to humanheart-project.creatis.insa-lyon.fr (humanheart-project.creatis.insa-lyon.fr)|195.220.108.28|:443... connected.\n",
            "HTTP request sent, awaiting response... 200 OK\n",
            "Length: unspecified [application/zip]\n",
            "Saving to: ‘data.zip’\n",
            "\n",
            "data.zip                [            <=>     ] 771.85M  16.6MB/s    in 48s     \n",
            "\n",
            "2023-09-13 19:36:24 (16.1 MB/s) - ‘data.zip’ saved [809346596]\n",
            "\n"
          ]
        }
      ]
    },
    {
      "cell_type": "code",
      "source": [
        "!unzip data.zip\n",
        "!rm data.zip"
      ],
      "metadata": {
        "id": "m5M9geA5ooTb"
      },
      "execution_count": null,
      "outputs": []
    },
    {
      "cell_type": "markdown",
      "source": [
        "# Model"
      ],
      "metadata": {
        "id": "rBoEW3-No5GY"
      }
    },
    {
      "cell_type": "code",
      "source": [
        "from google.colab import drive\n",
        "drive.mount('/content/gdrive', force_remount=True)\n",
        "!cp /content/gdrive/MyDrive/models models"
      ],
      "metadata": {
        "id": "mPpmcXRFwMjz"
      },
      "execution_count": null,
      "outputs": []
    },
    {
      "cell_type": "code",
      "source": [
        "!pip install monai lightning"
      ],
      "metadata": {
        "id": "r28fu6SI4Ta6"
      },
      "execution_count": null,
      "outputs": []
    },
    {
      "cell_type": "code",
      "source": [
        "model = torch.load('models/fct.model')"
      ],
      "metadata": {
        "id": "DKofj-UWou9q"
      },
      "execution_count": null,
      "outputs": []
    },
    {
      "cell_type": "code",
      "source": [
        "print(model.loss_fn)"
      ],
      "metadata": {
        "colab": {
          "base_uri": "https://localhost:8080/"
        },
        "id": "ig3FAUZe42EG",
        "outputId": "16799e83-8d16-4680-ca55-bdb5d99c3a98"
      },
      "execution_count": null,
      "outputs": [
        {
          "output_type": "stream",
          "name": "stdout",
          "text": [
            "BCEWithLogitsLoss()\n"
          ]
        }
      ]
    },
    {
      "cell_type": "markdown",
      "source": [
        "# Test"
      ],
      "metadata": {
        "id": "sX7qBn2P-HU_"
      }
    },
    {
      "cell_type": "code",
      "source": [
        "from utils.data_utils import get_acdc,convert_masks\n",
        "from torch.utils.data import DataLoader,TensorDataset\n",
        "import torch.nn.functional as F"
      ],
      "metadata": {
        "id": "BmWT8IiqGX1x"
      },
      "execution_count": null,
      "outputs": []
    },
    {
      "cell_type": "code",
      "source": [
        "def evaluate_model(model, dataloader):\n",
        "    device = torch.device(\"cuda\")\n",
        "    model.eval()\n",
        "    model = model.to(device)\n",
        "    patient = 0\n",
        "    results = \"\"\n",
        "    for inputs, targets in dataloader:\n",
        "        inputs, targets = inputs.to(device), targets.to(device)\n",
        "\n",
        "        outputs = model.forward(inputs)\n",
        "\n",
        "        y_pred = torch.argmax(outputs[2], axis=1)\n",
        "        y_pred_onehot = F.one_hot(y_pred, 4).permute(0, 3, 1, 2)\n",
        "        dice = compute_dice(y_pred_onehot, targets)\n",
        "        dice_LV = dice[3]\n",
        "        dice_RV = dice[1]\n",
        "        dice_MYO = dice[2]\n",
        "\n",
        "        patient += 1\n",
        "        results += 'Patient:' + str(patient) + \"\\n\"\n",
        "        results += 'dice/all_validate_dice' + str(dice[1:].mean())  + \"\\n\"\n",
        "        results += 'dice/LV_dice' + str(dice_LV)  + \"\\n\"\n",
        "        results += 'dice/RV_dice' + str(dice_RV)  + \"\\n\"\n",
        "        results += 'dice/MYO_dice' + str(dice_MYO)  + \"\\n\"\n",
        "        results += \"========================================================\\n\"\n",
        "\n",
        "    return results\n",
        "\n",
        "@torch.no_grad()\n",
        "def compute_dice(pred_y, y):\n",
        "    \"\"\"\n",
        "    Computes the Dice coefficient for each class in the ACDC dataset.\n",
        "    Assumes binary masks with shape (num_masks, num_classes, height, width).\n",
        "    \"\"\"\n",
        "    epsilon = 1e-6\n",
        "    num_masks = pred_y.shape[0]\n",
        "    num_classes = pred_y.shape[1]\n",
        "    device = torch.device(\"cuda\")\n",
        "    dice_scores = torch.zeros((num_classes,), device=device)\n",
        "\n",
        "    for c in range(num_classes):\n",
        "        intersection = torch.sum(pred_y[:, c] * y[:, c])\n",
        "        sum_masks = torch.sum(pred_y[:, c]) + torch.sum(y[:, c])\n",
        "        dice_scores[c] = (2. * intersection + epsilon) / (sum_masks + epsilon)\n",
        "\n",
        "    return dice_scores"
      ],
      "metadata": {
        "id": "i9CekQlO_lCu"
      },
      "execution_count": null,
      "outputs": []
    },
    {
      "cell_type": "code",
      "source": [
        "# test dataloader\n",
        "acdc_data, _, _ = get_acdc('testing', input_size=(224, 224, 1))\n",
        "acdc_data[1] = convert_masks(acdc_data[1])\n",
        "acdc_data[0] = np.transpose(acdc_data[0], (0, 3, 1, 2)) # for the channels\n",
        "acdc_data[1] = np.transpose(acdc_data[1], (0, 3, 1, 2)) # for the channels\n",
        "acdc_data[0] = torch.Tensor(acdc_data[0]) # convert to tensors\n",
        "acdc_data[1] = torch.Tensor(acdc_data[1]) # convert to tensors\n",
        "acdc_data = TensorDataset(acdc_data[0], acdc_data[1])\n",
        "test_loader = DataLoader(acdc_data, batch_size=1, num_workers=2)\n",
        "\n",
        "results = evaluate_model(model, test_loader)"
      ],
      "metadata": {
        "id": "OPg_er1s-HBI"
      },
      "execution_count": null,
      "outputs": []
    },
    {
      "cell_type": "code",
      "source": [
        "file_name = \"fct_results.txt\"\n",
        "\n",
        "# Open the file in write mode and save the string\n",
        "with open(file_name, 'w') as file:\n",
        "    file.write(results)\n",
        "\n",
        "print(f\"The string has been saved to {file_name}.\")"
      ],
      "metadata": {
        "colab": {
          "base_uri": "https://localhost:8080/"
        },
        "id": "cX1eS-3KIPUe",
        "outputId": "695d1d37-d3f1-4ace-a015-68f5bdd820c2"
      },
      "execution_count": null,
      "outputs": [
        {
          "output_type": "stream",
          "name": "stdout",
          "text": [
            "The string has been saved to results.txt.\n"
          ]
        }
      ]
    },
    {
      "cell_type": "code",
      "source": [],
      "metadata": {
        "id": "6IO1GZj-Jr39"
      },
      "execution_count": null,
      "outputs": []
    }
  ]
}