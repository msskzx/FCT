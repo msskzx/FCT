{
  "cells": [
    {
      "cell_type": "code",
      "execution_count": 15,
      "metadata": {
        "id": "-hQUSkGOnxT6"
      },
      "outputs": [],
      "source": [
        "import os\n",
        "import torch\n",
        "import numpy as np\n",
        "from torch.utils.data import DataLoader,TensorDataset\n",
        "import torch.nn.functional as F\n",
        "import matplotlib.pyplot as plt\n",
        "import pandas as pd"
      ]
    },
    {
      "cell_type": "code",
      "execution_count": null,
      "metadata": {
        "id": "V1nQp4vk9EVI"
      },
      "outputs": [],
      "source": [
        "!git clone https://github.com/msskzx/FCT\n",
        "dir_path = '/content/FCT'\n",
        "os.chdir(dir_path)"
      ]
    },
    {
      "cell_type": "markdown",
      "metadata": {
        "id": "c4LWwZaCopD8"
      },
      "source": [
        "# ACDC Dataset\n",
        "\n",
        "## Download Test Dataset"
      ]
    },
    {
      "cell_type": "code",
      "execution_count": null,
      "metadata": {
        "id": "4Ba212efom0r"
      },
      "outputs": [],
      "source": [
        "!wget --output-document=data.zip https://humanheart-project.creatis.insa-lyon.fr/database/api/v1/folder/6372203a73e9f0047faa117e/download\n",
        "!unzip data.zip\n",
        "!rm data.zip"
      ]
    },
    {
      "cell_type": "markdown",
      "metadata": {
        "id": "hiVd6uYGRoxF"
      },
      "source": [
        "## Test One Image Only\n",
        "\n",
        "Inference on one image only, by providing the link of the patient folder"
      ]
    },
    {
      "cell_type": "code",
      "execution_count": null,
      "metadata": {
        "id": "ny9-ypH5Roa8"
      },
      "outputs": [],
      "source": [
        "!wget --output-document=data.zip https://humanheart-project.creatis.insa-lyon.fr/database/api/v1/folder/63721d7073e9f0047faa052a/download\n",
        "!unzip data.zip\n",
        "!rm data.zip\n",
        "!mkdir testing\n",
        "!mv patient001/ testing/patient001"
      ]
    },
    {
      "cell_type": "markdown",
      "metadata": {
        "id": "rBoEW3-No5GY"
      },
      "source": [
        "# Model"
      ]
    },
    {
      "cell_type": "code",
      "execution_count": null,
      "metadata": {
        "id": "mPpmcXRFwMjz"
      },
      "outputs": [],
      "source": [
        "from google.colab import drive\n",
        "drive.mount('/content/gdrive', force_remount=True)\n",
        "!cp -r /content/gdrive/MyDrive/models models\n",
        "drive.flush_and_unmount()\n",
        "!pip install monai lightning"
      ]
    },
    {
      "cell_type": "code",
      "execution_count": 10,
      "metadata": {
        "id": "DKofj-UWou9q"
      },
      "outputs": [],
      "source": [
        "model = torch.load('models/fct.model')\n",
        "print(model.loss_fn)"
      ]
    },
    {
      "cell_type": "markdown",
      "metadata": {
        "id": "sX7qBn2P-HU_"
      },
      "source": [
        "# Testing"
      ]
    },
    {
      "cell_type": "code",
      "execution_count": 55,
      "metadata": {
        "colab": {
          "base_uri": "https://localhost:8080/"
        },
        "id": "OPg_er1s-HBI",
        "outputId": "0179e25d-3599-4210-c1f1-b01913f056f3"
      },
      "outputs": [
        {
          "name": "stdout",
          "output_type": "stream",
          "text": [
            "1076\n"
          ]
        }
      ],
      "source": [
        "from utils.data_utils import get_acdc,convert_masks\n",
        "\n",
        "# test dataloader\n",
        "acdc_data, _, _ = get_acdc('testing', input_size=(224, 224, 1))\n",
        "acdc_data[1] = convert_masks(acdc_data[1])\n",
        "acdc_data[0] = np.transpose(acdc_data[0], (0, 3, 1, 2)) # for the channels\n",
        "acdc_data[1] = np.transpose(acdc_data[1], (0, 3, 1, 2)) # for the channels\n",
        "acdc_data[0] = torch.Tensor(acdc_data[0]) # convert to tensors\n",
        "acdc_data[1] = torch.Tensor(acdc_data[1]) # convert to tensors\n",
        "acdc_data = TensorDataset(acdc_data[0], acdc_data[1])\n",
        "test_loader = DataLoader(acdc_data, batch_size=1, num_workers=2)\n",
        "print(len(test_loader))"
      ]
    },
    {
      "cell_type": "markdown",
      "metadata": {
        "id": "_tv7St2Dz_z4"
      },
      "source": [
        "## Prediction and Visualization"
      ]
    },
    {
      "cell_type": "code",
      "execution_count": 64,
      "metadata": {
        "id": "26XHNFft_CG3"
      },
      "outputs": [],
      "source": [
        "def evaluate_model(model, dataloader):\n",
        "    device = torch.device(\"cuda\")\n",
        "    model.eval()\n",
        "    model = model.to(device)\n",
        "    patient_id = 101\n",
        "    slice_id = 1\n",
        "    i = 0\n",
        "    scores = pd.DataFrame(columns=['patient_id', 'slice_id', 'dice_avg', 'dice_lv', 'dice_rv', 'dice_myo'])\n",
        "\n",
        "    for inputs, targets in dataloader:\n",
        "        inputs, targets = inputs.to(device), targets.to(device)\n",
        "\n",
        "        with torch.no_grad():\n",
        "            outputs = model(inputs)\n",
        "\n",
        "        y_pred = torch.argmax(outputs[2], axis=1)\n",
        "\n",
        "        \"\"\"\n",
        "        # Visualize the input image, ground truth mask, and predicted mask\n",
        "        input_image = inputs[0].cpu().numpy().transpose(1, 2, 0)\n",
        "        # convert into a single channel to visualize\n",
        "        ground_truth_mask = torch.argmax(targets[0], dim=0)\n",
        "        predicted_mask = y_pred.cpu().numpy().transpose(1, 2, 0)\n",
        "        \n",
        "\n",
        "        plt.figure(figsize=(12, 4))\n",
        "\n",
        "        plt.subplot(1, 3, 1)\n",
        "        plt.title(\"Input Image\")\n",
        "        plt.imshow(input_image, cmap='gray')\n",
        "\n",
        "        plt.subplot(1, 3, 2)\n",
        "        plt.title(\"Ground Truth Mask\")\n",
        "        plt.imshow(ground_truth_mask, cmap='gray')\n",
        "\n",
        "        plt.subplot(1, 3, 3)\n",
        "        plt.title(\"Predicted Mask\")\n",
        "        plt.imshow(predicted_mask, cmap='gray')\n",
        "\n",
        "        plt.show()\n",
        "        \"\"\"\n",
        "\n",
        "        # compute dice\n",
        "        # convert to 4 channels to compare with gt, since gt has 4 channels\n",
        "        y_pred_onehot = F.one_hot(y_pred, 4).permute(0, 3, 1, 2)\n",
        "\n",
        "        dice = compute_dice(y_pred_onehot, targets)\n",
        "        dice_lv = dice[3].item()\n",
        "        dice_rv = dice[1].item()\n",
        "        dice_myo = dice[2].item()\n",
        "        # skip background for mean\n",
        "        dice_avg = dice[1:].mean().item()\n",
        "\n",
        "        scores.loc[i] = {\n",
        "                'patient_id': patient_id,\n",
        "                'slice_id': slice_id % 10 + 1,\n",
        "                'dice_avg': dice_avg,\n",
        "                'dice_lv': dice_lv,\n",
        "                'dice_rv': dice_rv,\n",
        "                'dice_myo': dice_myo\n",
        "            }\n",
        "        if slice_id == 20:\n",
        "          patient_id += 1\n",
        "          slice_id = 0\n",
        "        slice_id += 1\n",
        "        i+= 1\n",
        "\n",
        "    return scores\n",
        "\n",
        "def compute_dice(pred_y, y):\n",
        "    \"\"\"\n",
        "    Computes the Dice coefficient for each class in the ACDC dataset.\n",
        "    Assumes binary masks with shape (num_masks, num_classes, height, width).\n",
        "    \"\"\"\n",
        "    epsilon = 1e-6\n",
        "    num_masks = pred_y.shape[0]\n",
        "    num_classes = pred_y.shape[1]\n",
        "    device = torch.device(\"cuda\")\n",
        "    dice_scores = torch.zeros((num_classes,), device=device)\n",
        "\n",
        "    for c in range(num_classes):\n",
        "        intersection = torch.sum(pred_y[:, c] * y[:, c])\n",
        "        sum_masks = torch.sum(pred_y[:, c]) + torch.sum(y[:, c])\n",
        "        dice_scores[c] = (2. * intersection + epsilon) / (sum_masks + epsilon)\n",
        "\n",
        "    return dice_scores"
      ]
    },
    {
      "cell_type": "code",
      "execution_count": 65,
      "metadata": {
        "id": "QScqBknk-VcG"
      },
      "outputs": [],
      "source": [
        "scores = evaluate_model(model, test_loader)"
      ]
    },
    {
      "cell_type": "code",
      "execution_count": 66,
      "metadata": {
        "colab": {
          "base_uri": "https://localhost:8080/",
          "height": 419
        },
        "id": "nBR85vA68Q9i",
        "outputId": "fc54e8fe-6e14-4a53-a461-df995b1ae67c"
      },
      "outputs": [
        {
          "data": {
            "text/html": [
              "\n",
              "  <div id=\"df-34e52409-9833-4b05-934f-59d8b83c9289\" class=\"colab-df-container\">\n",
              "    <div>\n",
              "<style scoped>\n",
              "    .dataframe tbody tr th:only-of-type {\n",
              "        vertical-align: middle;\n",
              "    }\n",
              "\n",
              "    .dataframe tbody tr th {\n",
              "        vertical-align: top;\n",
              "    }\n",
              "\n",
              "    .dataframe thead th {\n",
              "        text-align: right;\n",
              "    }\n",
              "</style>\n",
              "<table border=\"1\" class=\"dataframe\">\n",
              "  <thead>\n",
              "    <tr style=\"text-align: right;\">\n",
              "      <th></th>\n",
              "      <th>patient_id</th>\n",
              "      <th>slice_id</th>\n",
              "      <th>dice_avg</th>\n",
              "      <th>dice_lv</th>\n",
              "      <th>dice_rv</th>\n",
              "      <th>dice_myo</th>\n",
              "    </tr>\n",
              "  </thead>\n",
              "  <tbody>\n",
              "    <tr>\n",
              "      <th>0</th>\n",
              "      <td>101</td>\n",
              "      <td>2</td>\n",
              "      <td>7.154040e-01</td>\n",
              "      <td>7.531149e-01</td>\n",
              "      <td>8.771700e-01</td>\n",
              "      <td>5.159269e-01</td>\n",
              "    </tr>\n",
              "    <tr>\n",
              "      <th>1</th>\n",
              "      <td>101</td>\n",
              "      <td>3</td>\n",
              "      <td>7.526994e-01</td>\n",
              "      <td>7.737578e-01</td>\n",
              "      <td>8.591394e-01</td>\n",
              "      <td>6.252010e-01</td>\n",
              "    </tr>\n",
              "    <tr>\n",
              "      <th>2</th>\n",
              "      <td>101</td>\n",
              "      <td>4</td>\n",
              "      <td>7.692711e-01</td>\n",
              "      <td>7.820248e-01</td>\n",
              "      <td>8.838133e-01</td>\n",
              "      <td>6.419753e-01</td>\n",
              "    </tr>\n",
              "    <tr>\n",
              "      <th>3</th>\n",
              "      <td>101</td>\n",
              "      <td>5</td>\n",
              "      <td>7.697833e-01</td>\n",
              "      <td>8.335992e-01</td>\n",
              "      <td>8.073702e-01</td>\n",
              "      <td>6.683804e-01</td>\n",
              "    </tr>\n",
              "    <tr>\n",
              "      <th>4</th>\n",
              "      <td>101</td>\n",
              "      <td>6</td>\n",
              "      <td>7.970834e-01</td>\n",
              "      <td>9.008464e-01</td>\n",
              "      <td>7.522698e-01</td>\n",
              "      <td>7.381342e-01</td>\n",
              "    </tr>\n",
              "    <tr>\n",
              "      <th>...</th>\n",
              "      <td>...</td>\n",
              "      <td>...</td>\n",
              "      <td>...</td>\n",
              "      <td>...</td>\n",
              "      <td>...</td>\n",
              "      <td>...</td>\n",
              "    </tr>\n",
              "    <tr>\n",
              "      <th>1071</th>\n",
              "      <td>154</td>\n",
              "      <td>3</td>\n",
              "      <td>8.508065e-01</td>\n",
              "      <td>9.328461e-01</td>\n",
              "      <td>8.625712e-01</td>\n",
              "      <td>7.570023e-01</td>\n",
              "    </tr>\n",
              "    <tr>\n",
              "      <th>1072</th>\n",
              "      <td>154</td>\n",
              "      <td>4</td>\n",
              "      <td>8.364512e-01</td>\n",
              "      <td>9.033434e-01</td>\n",
              "      <td>8.568935e-01</td>\n",
              "      <td>7.491166e-01</td>\n",
              "    </tr>\n",
              "    <tr>\n",
              "      <th>1073</th>\n",
              "      <td>154</td>\n",
              "      <td>5</td>\n",
              "      <td>6.120958e-01</td>\n",
              "      <td>8.599671e-01</td>\n",
              "      <td>2.626642e-01</td>\n",
              "      <td>7.136564e-01</td>\n",
              "    </tr>\n",
              "    <tr>\n",
              "      <th>1074</th>\n",
              "      <td>154</td>\n",
              "      <td>6</td>\n",
              "      <td>4.065759e-09</td>\n",
              "      <td>3.030303e-09</td>\n",
              "      <td>5.291005e-09</td>\n",
              "      <td>3.875969e-09</td>\n",
              "    </tr>\n",
              "    <tr>\n",
              "      <th>1075</th>\n",
              "      <td>154</td>\n",
              "      <td>7</td>\n",
              "      <td>3.333333e-01</td>\n",
              "      <td>1.785714e-08</td>\n",
              "      <td>1.000000e+00</td>\n",
              "      <td>8.130081e-09</td>\n",
              "    </tr>\n",
              "  </tbody>\n",
              "</table>\n",
              "<p>1076 rows × 6 columns</p>\n",
              "</div>\n",
              "    <div class=\"colab-df-buttons\">\n",
              "\n",
              "  <div class=\"colab-df-container\">\n",
              "    <button class=\"colab-df-convert\" onclick=\"convertToInteractive('df-34e52409-9833-4b05-934f-59d8b83c9289')\"\n",
              "            title=\"Convert this dataframe to an interactive table.\"\n",
              "            style=\"display:none;\">\n",
              "\n",
              "  <svg xmlns=\"http://www.w3.org/2000/svg\" height=\"24px\" viewBox=\"0 -960 960 960\">\n",
              "    <path d=\"M120-120v-720h720v720H120Zm60-500h600v-160H180v160Zm220 220h160v-160H400v160Zm0 220h160v-160H400v160ZM180-400h160v-160H180v160Zm440 0h160v-160H620v160ZM180-180h160v-160H180v160Zm440 0h160v-160H620v160Z\"/>\n",
              "  </svg>\n",
              "    </button>\n",
              "\n",
              "  <style>\n",
              "    .colab-df-container {\n",
              "      display:flex;\n",
              "      gap: 12px;\n",
              "    }\n",
              "\n",
              "    .colab-df-convert {\n",
              "      background-color: #E8F0FE;\n",
              "      border: none;\n",
              "      border-radius: 50%;\n",
              "      cursor: pointer;\n",
              "      display: none;\n",
              "      fill: #1967D2;\n",
              "      height: 32px;\n",
              "      padding: 0 0 0 0;\n",
              "      width: 32px;\n",
              "    }\n",
              "\n",
              "    .colab-df-convert:hover {\n",
              "      background-color: #E2EBFA;\n",
              "      box-shadow: 0px 1px 2px rgba(60, 64, 67, 0.3), 0px 1px 3px 1px rgba(60, 64, 67, 0.15);\n",
              "      fill: #174EA6;\n",
              "    }\n",
              "\n",
              "    .colab-df-buttons div {\n",
              "      margin-bottom: 4px;\n",
              "    }\n",
              "\n",
              "    [theme=dark] .colab-df-convert {\n",
              "      background-color: #3B4455;\n",
              "      fill: #D2E3FC;\n",
              "    }\n",
              "\n",
              "    [theme=dark] .colab-df-convert:hover {\n",
              "      background-color: #434B5C;\n",
              "      box-shadow: 0px 1px 3px 1px rgba(0, 0, 0, 0.15);\n",
              "      filter: drop-shadow(0px 1px 2px rgba(0, 0, 0, 0.3));\n",
              "      fill: #FFFFFF;\n",
              "    }\n",
              "  </style>\n",
              "\n",
              "    <script>\n",
              "      const buttonEl =\n",
              "        document.querySelector('#df-34e52409-9833-4b05-934f-59d8b83c9289 button.colab-df-convert');\n",
              "      buttonEl.style.display =\n",
              "        google.colab.kernel.accessAllowed ? 'block' : 'none';\n",
              "\n",
              "      async function convertToInteractive(key) {\n",
              "        const element = document.querySelector('#df-34e52409-9833-4b05-934f-59d8b83c9289');\n",
              "        const dataTable =\n",
              "          await google.colab.kernel.invokeFunction('convertToInteractive',\n",
              "                                                    [key], {});\n",
              "        if (!dataTable) return;\n",
              "\n",
              "        const docLinkHtml = 'Like what you see? Visit the ' +\n",
              "          '<a target=\"_blank\" href=https://colab.research.google.com/notebooks/data_table.ipynb>data table notebook</a>'\n",
              "          + ' to learn more about interactive tables.';\n",
              "        element.innerHTML = '';\n",
              "        dataTable['output_type'] = 'display_data';\n",
              "        await google.colab.output.renderOutput(dataTable, element);\n",
              "        const docLink = document.createElement('div');\n",
              "        docLink.innerHTML = docLinkHtml;\n",
              "        element.appendChild(docLink);\n",
              "      }\n",
              "    </script>\n",
              "  </div>\n",
              "\n",
              "\n",
              "<div id=\"df-bdd72911-b330-4e01-83dc-8d69ecc4a7fd\">\n",
              "  <button class=\"colab-df-quickchart\" onclick=\"quickchart('df-bdd72911-b330-4e01-83dc-8d69ecc4a7fd')\"\n",
              "            title=\"Suggest charts.\"\n",
              "            style=\"display:none;\">\n",
              "\n",
              "<svg xmlns=\"http://www.w3.org/2000/svg\" height=\"24px\"viewBox=\"0 0 24 24\"\n",
              "     width=\"24px\">\n",
              "    <g>\n",
              "        <path d=\"M19 3H5c-1.1 0-2 .9-2 2v14c0 1.1.9 2 2 2h14c1.1 0 2-.9 2-2V5c0-1.1-.9-2-2-2zM9 17H7v-7h2v7zm4 0h-2V7h2v10zm4 0h-2v-4h2v4z\"/>\n",
              "    </g>\n",
              "</svg>\n",
              "  </button>\n",
              "\n",
              "<style>\n",
              "  .colab-df-quickchart {\n",
              "      --bg-color: #E8F0FE;\n",
              "      --fill-color: #1967D2;\n",
              "      --hover-bg-color: #E2EBFA;\n",
              "      --hover-fill-color: #174EA6;\n",
              "      --disabled-fill-color: #AAA;\n",
              "      --disabled-bg-color: #DDD;\n",
              "  }\n",
              "\n",
              "  [theme=dark] .colab-df-quickchart {\n",
              "      --bg-color: #3B4455;\n",
              "      --fill-color: #D2E3FC;\n",
              "      --hover-bg-color: #434B5C;\n",
              "      --hover-fill-color: #FFFFFF;\n",
              "      --disabled-bg-color: #3B4455;\n",
              "      --disabled-fill-color: #666;\n",
              "  }\n",
              "\n",
              "  .colab-df-quickchart {\n",
              "    background-color: var(--bg-color);\n",
              "    border: none;\n",
              "    border-radius: 50%;\n",
              "    cursor: pointer;\n",
              "    display: none;\n",
              "    fill: var(--fill-color);\n",
              "    height: 32px;\n",
              "    padding: 0;\n",
              "    width: 32px;\n",
              "  }\n",
              "\n",
              "  .colab-df-quickchart:hover {\n",
              "    background-color: var(--hover-bg-color);\n",
              "    box-shadow: 0 1px 2px rgba(60, 64, 67, 0.3), 0 1px 3px 1px rgba(60, 64, 67, 0.15);\n",
              "    fill: var(--button-hover-fill-color);\n",
              "  }\n",
              "\n",
              "  .colab-df-quickchart-complete:disabled,\n",
              "  .colab-df-quickchart-complete:disabled:hover {\n",
              "    background-color: var(--disabled-bg-color);\n",
              "    fill: var(--disabled-fill-color);\n",
              "    box-shadow: none;\n",
              "  }\n",
              "\n",
              "  .colab-df-spinner {\n",
              "    border: 2px solid var(--fill-color);\n",
              "    border-color: transparent;\n",
              "    border-bottom-color: var(--fill-color);\n",
              "    animation:\n",
              "      spin 1s steps(1) infinite;\n",
              "  }\n",
              "\n",
              "  @keyframes spin {\n",
              "    0% {\n",
              "      border-color: transparent;\n",
              "      border-bottom-color: var(--fill-color);\n",
              "      border-left-color: var(--fill-color);\n",
              "    }\n",
              "    20% {\n",
              "      border-color: transparent;\n",
              "      border-left-color: var(--fill-color);\n",
              "      border-top-color: var(--fill-color);\n",
              "    }\n",
              "    30% {\n",
              "      border-color: transparent;\n",
              "      border-left-color: var(--fill-color);\n",
              "      border-top-color: var(--fill-color);\n",
              "      border-right-color: var(--fill-color);\n",
              "    }\n",
              "    40% {\n",
              "      border-color: transparent;\n",
              "      border-right-color: var(--fill-color);\n",
              "      border-top-color: var(--fill-color);\n",
              "    }\n",
              "    60% {\n",
              "      border-color: transparent;\n",
              "      border-right-color: var(--fill-color);\n",
              "    }\n",
              "    80% {\n",
              "      border-color: transparent;\n",
              "      border-right-color: var(--fill-color);\n",
              "      border-bottom-color: var(--fill-color);\n",
              "    }\n",
              "    90% {\n",
              "      border-color: transparent;\n",
              "      border-bottom-color: var(--fill-color);\n",
              "    }\n",
              "  }\n",
              "</style>\n",
              "\n",
              "  <script>\n",
              "    async function quickchart(key) {\n",
              "      const quickchartButtonEl =\n",
              "        document.querySelector('#' + key + ' button');\n",
              "      quickchartButtonEl.disabled = true;  // To prevent multiple clicks.\n",
              "      quickchartButtonEl.classList.add('colab-df-spinner');\n",
              "      try {\n",
              "        const charts = await google.colab.kernel.invokeFunction(\n",
              "            'suggestCharts', [key], {});\n",
              "      } catch (error) {\n",
              "        console.error('Error during call to suggestCharts:', error);\n",
              "      }\n",
              "      quickchartButtonEl.classList.remove('colab-df-spinner');\n",
              "      quickchartButtonEl.classList.add('colab-df-quickchart-complete');\n",
              "    }\n",
              "    (() => {\n",
              "      let quickchartButtonEl =\n",
              "        document.querySelector('#df-bdd72911-b330-4e01-83dc-8d69ecc4a7fd button');\n",
              "      quickchartButtonEl.style.display =\n",
              "        google.colab.kernel.accessAllowed ? 'block' : 'none';\n",
              "    })();\n",
              "  </script>\n",
              "</div>\n",
              "    </div>\n",
              "  </div>\n"
            ],
            "text/plain": [
              "      patient_id  slice_id      dice_avg       dice_lv       dice_rv  \\\n",
              "0            101         2  7.154040e-01  7.531149e-01  8.771700e-01   \n",
              "1            101         3  7.526994e-01  7.737578e-01  8.591394e-01   \n",
              "2            101         4  7.692711e-01  7.820248e-01  8.838133e-01   \n",
              "3            101         5  7.697833e-01  8.335992e-01  8.073702e-01   \n",
              "4            101         6  7.970834e-01  9.008464e-01  7.522698e-01   \n",
              "...          ...       ...           ...           ...           ...   \n",
              "1071         154         3  8.508065e-01  9.328461e-01  8.625712e-01   \n",
              "1072         154         4  8.364512e-01  9.033434e-01  8.568935e-01   \n",
              "1073         154         5  6.120958e-01  8.599671e-01  2.626642e-01   \n",
              "1074         154         6  4.065759e-09  3.030303e-09  5.291005e-09   \n",
              "1075         154         7  3.333333e-01  1.785714e-08  1.000000e+00   \n",
              "\n",
              "          dice_myo  \n",
              "0     5.159269e-01  \n",
              "1     6.252010e-01  \n",
              "2     6.419753e-01  \n",
              "3     6.683804e-01  \n",
              "4     7.381342e-01  \n",
              "...            ...  \n",
              "1071  7.570023e-01  \n",
              "1072  7.491166e-01  \n",
              "1073  7.136564e-01  \n",
              "1074  3.875969e-09  \n",
              "1075  8.130081e-09  \n",
              "\n",
              "[1076 rows x 6 columns]"
            ]
          },
          "execution_count": 66,
          "metadata": {},
          "output_type": "execute_result"
        }
      ],
      "source": [
        "scores"
      ]
    },
    {
      "cell_type": "markdown",
      "metadata": {
        "id": "kihyebLh0GMt"
      },
      "source": [
        "## Save Results\n",
        "\n",
        "So it could be used for further analysis at anytime without infering again."
      ]
    },
    {
      "cell_type": "code",
      "execution_count": 68,
      "metadata": {
        "id": "8WvnhQe7JpE4"
      },
      "outputs": [],
      "source": [
        "!mkdir results"
      ]
    },
    {
      "cell_type": "code",
      "execution_count": 69,
      "metadata": {
        "colab": {
          "base_uri": "https://localhost:8080/"
        },
        "id": "cX1eS-3KIPUe",
        "outputId": "b9311f0b-6e71-47cb-e0f9-aacfb4ee515c"
      },
      "outputs": [
        {
          "name": "stdout",
          "output_type": "stream",
          "text": [
            "The scores have been saved to results/fct_scores.csv\n"
          ]
        }
      ],
      "source": [
        "export_path = 'results/fct_scores.csv'\n",
        "scores.to_csv(export_path, index=False)\n",
        "print(f\"The scores have been saved to {export_path}\")"
      ]
    },
    {
      "cell_type": "code",
      "execution_count": null,
      "metadata": {
        "id": "sQSpZIqVF4_P"
      },
      "outputs": [],
      "source": []
    }
  ],
  "metadata": {
    "accelerator": "GPU",
    "colab": {
      "gpuType": "T4",
      "provenance": []
    },
    "kernelspec": {
      "display_name": "Python 3",
      "name": "python3"
    },
    "language_info": {
      "name": "python",
      "version": "3.9.16"
    }
  },
  "nbformat": 4,
  "nbformat_minor": 0
}
